{
 "cells": [
  {
   "cell_type": "code",
   "execution_count": 1,
   "id": "0a9f668e",
   "metadata": {
    "_cell_guid": "b1076dfc-b9ad-4769-8c92-a6c4dae69d19",
    "_uuid": "8f2839f25d086af736a60e9eeb907d3b93b6e0e5",
    "execution": {
     "iopub.execute_input": "2022-05-04T02:03:48.999576Z",
     "iopub.status.busy": "2022-05-04T02:03:48.993375Z",
     "iopub.status.idle": "2022-05-04T02:03:49.004814Z",
     "shell.execute_reply": "2022-05-04T02:03:49.004006Z",
     "shell.execute_reply.started": "2022-05-04T01:58:26.205687Z"
    },
    "papermill": {
     "duration": 0.027052,
     "end_time": "2022-05-04T02:03:49.005023",
     "exception": false,
     "start_time": "2022-05-04T02:03:48.977971",
     "status": "completed"
    },
    "tags": []
   },
   "outputs": [],
   "source": [
    "import os\n",
    "import numpy as np\n",
    "import pandas as pd\n",
    "import gc"
   ]
  },
  {
   "cell_type": "markdown",
   "id": "36376dc6",
   "metadata": {
    "papermill": {
     "duration": 0.015577,
     "end_time": "2022-05-04T02:03:49.038479",
     "exception": false,
     "start_time": "2022-05-04T02:03:49.022902",
     "status": "completed"
    },
    "tags": []
   },
   "source": [
    "# To ensemble I used submissions from 9 public notebooks:\n",
    "* LB: 0.0225 - https://www.kaggle.com/lunapandachan/h-m-trending-products-weekly-add-test/notebook\n",
    "* LB: 0.0217 - https://www.kaggle.com/tarique7/hnm-exponential-decay-with-alternate-items/notebook\n",
    "* LB: 0.0221 - https://www.kaggle.com/astrung/lstm-sequential-modelwith-item-features-tutorial\n",
    "* LB: 0.0224 - https://www.kaggle.com/code/hirotakanogami/h-m-eda-customer-clustering-by-kmeans\n",
    "* LB: 0.0220 - https://www.kaggle.com/code/hengzheng/time-is-our-best-friend-v2/notebook\n",
    "* LB: 0.0227 - https://www.kaggle.com/code/hechtjp/h-m-eda-rule-base-by-customer-age\n",
    "* LB: 0.0231 - https://www.kaggle.com/code/ebn7amdi/trending/notebook?scriptVersionId=90980162\n",
    "* LB: 0.0225 - https://www.kaggle.com/code/mayukh18/svd-model-reranking-implicit-to-explicit-feedback"
   ]
  },
  {
   "cell_type": "code",
   "execution_count": 2,
   "id": "3b4d1cdf",
   "metadata": {
    "execution": {
     "iopub.execute_input": "2022-05-04T02:03:49.078515Z",
     "iopub.status.busy": "2022-05-04T02:03:49.077567Z",
     "iopub.status.idle": "2022-05-04T02:04:51.112040Z",
     "shell.execute_reply": "2022-05-04T02:04:51.111311Z",
     "shell.execute_reply.started": "2022-05-04T01:58:26.223475Z"
    },
    "papermill": {
     "duration": 62.057751,
     "end_time": "2022-05-04T02:04:51.112184",
     "exception": false,
     "start_time": "2022-05-04T02:03:49.054433",
     "status": "completed"
    },
    "tags": []
   },
   "outputs": [],
   "source": [
    "\n",
    "sub0 = pd.read_csv('../input/hm-00231-solution/submission.csv').sort_values('customer_id').reset_index(drop=True)                                             # 0.0231\n",
    "sub1 = pd.read_csv('../input/handmbestperforming/h-m-trending-products-weekly-add-test.csv').sort_values('customer_id').reset_index(drop=True)                # 0.0225\n",
    "sub2 = pd.read_csv('../input/handmbestperforming/hnm-exponential-decay-with-alternate-items.csv').sort_values('customer_id').reset_index(drop=True)           # 0.0217\n",
    "sub3 = pd.read_csv('../input/handmbestperforming/lstm-sequential-modelwith-item-features-tutorial.csv').sort_values('customer_id').reset_index(drop=True)     # 0.0221\n",
    "# sub3 = pd.read_csv('../input/handmbestperforming/lstm-model-with-item-infor-fix-missing-last-item.csv').sort_values('customer_id').reset_index(drop=True)     # 0.0221\n",
    "sub4 = pd.read_csv('../input/hm-00224-solution/submission.csv').sort_values('customer_id').reset_index(drop=True)                                             # 0.0224\n",
    "sub5 = pd.read_csv('../input/handmbestperforming/time-is-our-best-friend-v2.csv').sort_values('customer_id').reset_index(drop=True)                           # 0.0220\n",
    "sub6 = pd.read_csv('../input/handmbestperforming/rule-based-by-customer-age.csv').sort_values('customer_id').reset_index(drop=True)                           # 0.0227\n",
    "sub7 = pd.read_csv('../input/h-m-faster-trending-products-weekly/submission.csv').sort_values('customer_id').reset_index(drop=True)                           # 0.0231\n",
    "# sub8 = pd.read_csv('../input/h-m-framework-for-partitioned-validation/submission.csv').sort_values('customer_id').reset_index(drop=True)                      # 0.0225"
   ]
  },
  {
   "cell_type": "code",
   "execution_count": 3,
   "id": "afcb18e8",
   "metadata": {
    "execution": {
     "iopub.execute_input": "2022-05-04T02:04:51.152991Z",
     "iopub.status.busy": "2022-05-04T02:04:51.152318Z",
     "iopub.status.idle": "2022-05-04T02:04:51.702872Z",
     "shell.execute_reply": "2022-05-04T02:04:51.703429Z",
     "shell.execute_reply.started": "2022-05-04T01:59:04.104494Z"
    },
    "papermill": {
     "duration": 0.576247,
     "end_time": "2022-05-04T02:04:51.703624",
     "exception": false,
     "start_time": "2022-05-04T02:04:51.127377",
     "status": "completed"
    },
    "tags": []
   },
   "outputs": [
    {
     "data": {
      "text/html": [
       "<div>\n",
       "<style scoped>\n",
       "    .dataframe tbody tr th:only-of-type {\n",
       "        vertical-align: middle;\n",
       "    }\n",
       "\n",
       "    .dataframe tbody tr th {\n",
       "        vertical-align: top;\n",
       "    }\n",
       "\n",
       "    .dataframe thead th {\n",
       "        text-align: right;\n",
       "    }\n",
       "</style>\n",
       "<table border=\"1\" class=\"dataframe\">\n",
       "  <thead>\n",
       "    <tr style=\"text-align: right;\">\n",
       "      <th></th>\n",
       "      <th>customer_id</th>\n",
       "      <th>prediction0</th>\n",
       "      <th>prediction1</th>\n",
       "      <th>prediction2</th>\n",
       "      <th>prediction3</th>\n",
       "      <th>prediction4</th>\n",
       "      <th>prediction5</th>\n",
       "      <th>prediction6</th>\n",
       "      <th>prediction7</th>\n",
       "    </tr>\n",
       "  </thead>\n",
       "  <tbody>\n",
       "    <tr>\n",
       "      <th>0</th>\n",
       "      <td>00000dbacae5abe5e23885899a1fa44253a17956c6d1c3...</td>\n",
       "      <td>0568601043 0568601006 0568601006 0568597006 04...</td>\n",
       "      <td>0568601043 0568601006 0656719005 0745232001 07...</td>\n",
       "      <td>0568601043 0924243001 0924243002 0918522001 07...</td>\n",
       "      <td>0568601043 0568601006 0656719005 0745232001 09...</td>\n",
       "      <td>0568601043 0568601006 0745232001 0751471001 04...</td>\n",
       "      <td>0568601043 0751471001 0909370001 0915526001 09...</td>\n",
       "      <td>0568601043 0568601006 0745232001 0751471001 04...</td>\n",
       "      <td>0568601043 0568601006 0448509014 0573085028 07...</td>\n",
       "    </tr>\n",
       "    <tr>\n",
       "      <th>1</th>\n",
       "      <td>0000423b00ade91418cceaf3b26c6af3dd342b51fd051e...</td>\n",
       "      <td>0826211002 0800436010 0739590027 0706016001 06...</td>\n",
       "      <td>0826211002 0800436010 0739590027 0723529001 08...</td>\n",
       "      <td>0924243001 0924243002 0918522001 0751471001 04...</td>\n",
       "      <td>0826211002 0800436010 0924243001 0739590027 07...</td>\n",
       "      <td>0826211002 0739590027 0811835004 0764280001 07...</td>\n",
       "      <td>0924243001 0924243002 0923758001 0918522001 09...</td>\n",
       "      <td>0826211002 0739590027 0811835004 0764280001 07...</td>\n",
       "      <td>0826211002 0800436010 0739590027 0448509014 05...</td>\n",
       "    </tr>\n",
       "    <tr>\n",
       "      <th>2</th>\n",
       "      <td>000058a12d5b43e67d225668fa1f8d618c13dc232df0ca...</td>\n",
       "      <td>0794321007 0852643001 0852643003 0858883002 07...</td>\n",
       "      <td>0794321007 0852643001 0852643003 0858883002 07...</td>\n",
       "      <td>0794321007 0924243001 0924243002 0918522001 07...</td>\n",
       "      <td>0794321007 0852643001 0852643003 0858883002 09...</td>\n",
       "      <td>0794321007 0852643001 0852643003 0727808007 08...</td>\n",
       "      <td>0794321007 0924243001 0924243002 0923758001 09...</td>\n",
       "      <td>0794321007 0858883002 0852643003 0727808007 08...</td>\n",
       "      <td>0794321007 0852643001 0852643003 0858883002 07...</td>\n",
       "    </tr>\n",
       "    <tr>\n",
       "      <th>3</th>\n",
       "      <td>00005ca1c9ed5f5146b52ac8639a40ca9d57aeff4d1bd2...</td>\n",
       "      <td>0448509014 0573085028 0751471001 0706016001 06...</td>\n",
       "      <td>0448509014 0573085028 0751471001 0706016001 06...</td>\n",
       "      <td>0924243001 0924243002 0918522001 0751471001 04...</td>\n",
       "      <td>0448509014 0573085028 0924243001 0751471001 07...</td>\n",
       "      <td>0751471001 0678942001 0673677002 0579541001 05...</td>\n",
       "      <td>0924243001 0924243002 0923758001 0918522001 09...</td>\n",
       "      <td>0751471001 0579541001 0573085028 0673677002 06...</td>\n",
       "      <td>0448509014 0573085028 0751471001 0706016001 06...</td>\n",
       "    </tr>\n",
       "    <tr>\n",
       "      <th>4</th>\n",
       "      <td>00006413d8573cd20ed7128e53b7b13819fe5cfc2d801f...</td>\n",
       "      <td>0730683050 0791587015 0896152002 0818320001 09...</td>\n",
       "      <td>0730683050 0791587015 0896152002 0818320001 09...</td>\n",
       "      <td>0924243001 0924243002 0918522001 0751471001 04...</td>\n",
       "      <td>0730683050 0791587015 0924243001 0896152002 08...</td>\n",
       "      <td>0730683050 0791587015 0896152002 0927530004 05...</td>\n",
       "      <td>0924243001 0924243002 0923758001 0918522001 09...</td>\n",
       "      <td>0730683050 0791587015 0896152002 0927530004 08...</td>\n",
       "      <td>0730683050 0791587015 0896152002 0818320001 09...</td>\n",
       "    </tr>\n",
       "  </tbody>\n",
       "</table>\n",
       "</div>"
      ],
      "text/plain": [
       "                                         customer_id  \\\n",
       "0  00000dbacae5abe5e23885899a1fa44253a17956c6d1c3...   \n",
       "1  0000423b00ade91418cceaf3b26c6af3dd342b51fd051e...   \n",
       "2  000058a12d5b43e67d225668fa1f8d618c13dc232df0ca...   \n",
       "3  00005ca1c9ed5f5146b52ac8639a40ca9d57aeff4d1bd2...   \n",
       "4  00006413d8573cd20ed7128e53b7b13819fe5cfc2d801f...   \n",
       "\n",
       "                                         prediction0  \\\n",
       "0  0568601043 0568601006 0568601006 0568597006 04...   \n",
       "1  0826211002 0800436010 0739590027 0706016001 06...   \n",
       "2  0794321007 0852643001 0852643003 0858883002 07...   \n",
       "3  0448509014 0573085028 0751471001 0706016001 06...   \n",
       "4  0730683050 0791587015 0896152002 0818320001 09...   \n",
       "\n",
       "                                         prediction1  \\\n",
       "0  0568601043 0568601006 0656719005 0745232001 07...   \n",
       "1  0826211002 0800436010 0739590027 0723529001 08...   \n",
       "2  0794321007 0852643001 0852643003 0858883002 07...   \n",
       "3  0448509014 0573085028 0751471001 0706016001 06...   \n",
       "4  0730683050 0791587015 0896152002 0818320001 09...   \n",
       "\n",
       "                                         prediction2  \\\n",
       "0  0568601043 0924243001 0924243002 0918522001 07...   \n",
       "1  0924243001 0924243002 0918522001 0751471001 04...   \n",
       "2  0794321007 0924243001 0924243002 0918522001 07...   \n",
       "3  0924243001 0924243002 0918522001 0751471001 04...   \n",
       "4  0924243001 0924243002 0918522001 0751471001 04...   \n",
       "\n",
       "                                         prediction3  \\\n",
       "0  0568601043 0568601006 0656719005 0745232001 09...   \n",
       "1  0826211002 0800436010 0924243001 0739590027 07...   \n",
       "2  0794321007 0852643001 0852643003 0858883002 09...   \n",
       "3  0448509014 0573085028 0924243001 0751471001 07...   \n",
       "4  0730683050 0791587015 0924243001 0896152002 08...   \n",
       "\n",
       "                                         prediction4  \\\n",
       "0  0568601043 0568601006 0745232001 0751471001 04...   \n",
       "1  0826211002 0739590027 0811835004 0764280001 07...   \n",
       "2  0794321007 0852643001 0852643003 0727808007 08...   \n",
       "3  0751471001 0678942001 0673677002 0579541001 05...   \n",
       "4  0730683050 0791587015 0896152002 0927530004 05...   \n",
       "\n",
       "                                         prediction5  \\\n",
       "0  0568601043 0751471001 0909370001 0915526001 09...   \n",
       "1  0924243001 0924243002 0923758001 0918522001 09...   \n",
       "2  0794321007 0924243001 0924243002 0923758001 09...   \n",
       "3  0924243001 0924243002 0923758001 0918522001 09...   \n",
       "4  0924243001 0924243002 0923758001 0918522001 09...   \n",
       "\n",
       "                                         prediction6  \\\n",
       "0  0568601043 0568601006 0745232001 0751471001 04...   \n",
       "1  0826211002 0739590027 0811835004 0764280001 07...   \n",
       "2  0794321007 0858883002 0852643003 0727808007 08...   \n",
       "3  0751471001 0579541001 0573085028 0673677002 06...   \n",
       "4  0730683050 0791587015 0896152002 0927530004 08...   \n",
       "\n",
       "                                         prediction7  \n",
       "0  0568601043 0568601006 0448509014 0573085028 07...  \n",
       "1  0826211002 0800436010 0739590027 0448509014 05...  \n",
       "2  0794321007 0852643001 0852643003 0858883002 07...  \n",
       "3  0448509014 0573085028 0751471001 0706016001 06...  \n",
       "4  0730683050 0791587015 0896152002 0818320001 09...  "
      ]
     },
     "execution_count": 3,
     "metadata": {},
     "output_type": "execute_result"
    }
   ],
   "source": [
    "sub0.columns = ['customer_id', 'prediction0']\n",
    "sub0['prediction1'] = sub1['prediction']\n",
    "sub0['prediction2'] = sub2['prediction']\n",
    "sub0['prediction3'] = sub3['prediction']\n",
    "sub0['prediction4'] = sub4['prediction']\n",
    "sub0['prediction5'] = sub5['prediction']\n",
    "sub0['prediction6'] = sub6['prediction']\n",
    "sub0['prediction7'] = sub7['prediction']\n",
    "# sub0['prediction8'] = sub8['prediction'].astype(str)\n",
    "\n",
    "del sub1, sub2, sub3, sub4, sub5, sub6, sub7\n",
    "gc.collect()\n",
    "sub0.head()"
   ]
  },
  {
   "cell_type": "code",
   "execution_count": 4,
   "id": "f6be9671",
   "metadata": {
    "execution": {
     "iopub.execute_input": "2022-05-04T02:04:51.745866Z",
     "iopub.status.busy": "2022-05-04T02:04:51.744089Z",
     "iopub.status.idle": "2022-05-04T02:06:50.894770Z",
     "shell.execute_reply": "2022-05-04T02:06:50.895380Z",
     "shell.execute_reply.started": "2022-05-04T01:59:04.850443Z"
    },
    "papermill": {
     "duration": 119.175963,
     "end_time": "2022-05-04T02:06:50.895703",
     "exception": false,
     "start_time": "2022-05-04T02:04:51.719740",
     "status": "completed"
    },
    "tags": []
   },
   "outputs": [
    {
     "data": {
      "text/html": [
       "<div>\n",
       "<style scoped>\n",
       "    .dataframe tbody tr th:only-of-type {\n",
       "        vertical-align: middle;\n",
       "    }\n",
       "\n",
       "    .dataframe tbody tr th {\n",
       "        vertical-align: top;\n",
       "    }\n",
       "\n",
       "    .dataframe thead th {\n",
       "        text-align: right;\n",
       "    }\n",
       "</style>\n",
       "<table border=\"1\" class=\"dataframe\">\n",
       "  <thead>\n",
       "    <tr style=\"text-align: right;\">\n",
       "      <th></th>\n",
       "      <th>customer_id</th>\n",
       "      <th>prediction0</th>\n",
       "      <th>prediction1</th>\n",
       "      <th>prediction2</th>\n",
       "      <th>prediction3</th>\n",
       "      <th>prediction4</th>\n",
       "      <th>prediction5</th>\n",
       "      <th>prediction6</th>\n",
       "      <th>prediction7</th>\n",
       "      <th>prediction</th>\n",
       "    </tr>\n",
       "  </thead>\n",
       "  <tbody>\n",
       "    <tr>\n",
       "      <th>0</th>\n",
       "      <td>00000dbacae5abe5e23885899a1fa44253a17956c6d1c3...</td>\n",
       "      <td>0568601043 0568601006 0568601006 0568597006 04...</td>\n",
       "      <td>0568601043 0568601006 0656719005 0745232001 07...</td>\n",
       "      <td>0568601043 0924243001 0924243002 0918522001 07...</td>\n",
       "      <td>0568601043 0568601006 0656719005 0745232001 09...</td>\n",
       "      <td>0568601043 0568601006 0745232001 0751471001 04...</td>\n",
       "      <td>0568601043 0751471001 0909370001 0915526001 09...</td>\n",
       "      <td>0568601043 0568601006 0745232001 0751471001 04...</td>\n",
       "      <td>0568601043 0568601006 0448509014 0573085028 07...</td>\n",
       "      <td>0568601043 0568601006 0751471001 0448509014 07...</td>\n",
       "    </tr>\n",
       "    <tr>\n",
       "      <th>1</th>\n",
       "      <td>0000423b00ade91418cceaf3b26c6af3dd342b51fd051e...</td>\n",
       "      <td>0826211002 0800436010 0739590027 0706016001 06...</td>\n",
       "      <td>0826211002 0800436010 0739590027 0723529001 08...</td>\n",
       "      <td>0924243001 0924243002 0918522001 0751471001 04...</td>\n",
       "      <td>0826211002 0800436010 0924243001 0739590027 07...</td>\n",
       "      <td>0826211002 0739590027 0811835004 0764280001 07...</td>\n",
       "      <td>0924243001 0924243002 0923758001 0918522001 09...</td>\n",
       "      <td>0826211002 0739590027 0811835004 0764280001 07...</td>\n",
       "      <td>0826211002 0800436010 0739590027 0448509014 05...</td>\n",
       "      <td>0826211002 0924243001 0739590027 0800436010 09...</td>\n",
       "    </tr>\n",
       "    <tr>\n",
       "      <th>2</th>\n",
       "      <td>000058a12d5b43e67d225668fa1f8d618c13dc232df0ca...</td>\n",
       "      <td>0794321007 0852643001 0852643003 0858883002 07...</td>\n",
       "      <td>0794321007 0852643001 0852643003 0858883002 07...</td>\n",
       "      <td>0794321007 0924243001 0924243002 0918522001 07...</td>\n",
       "      <td>0794321007 0852643001 0852643003 0858883002 09...</td>\n",
       "      <td>0794321007 0852643001 0852643003 0727808007 08...</td>\n",
       "      <td>0794321007 0924243001 0924243002 0923758001 09...</td>\n",
       "      <td>0794321007 0858883002 0852643003 0727808007 08...</td>\n",
       "      <td>0794321007 0852643001 0852643003 0858883002 07...</td>\n",
       "      <td>0794321007 0852643001 0852643003 0858883002 09...</td>\n",
       "    </tr>\n",
       "    <tr>\n",
       "      <th>3</th>\n",
       "      <td>00005ca1c9ed5f5146b52ac8639a40ca9d57aeff4d1bd2...</td>\n",
       "      <td>0448509014 0573085028 0751471001 0706016001 06...</td>\n",
       "      <td>0448509014 0573085028 0751471001 0706016001 06...</td>\n",
       "      <td>0924243001 0924243002 0918522001 0751471001 04...</td>\n",
       "      <td>0448509014 0573085028 0924243001 0751471001 07...</td>\n",
       "      <td>0751471001 0678942001 0673677002 0579541001 05...</td>\n",
       "      <td>0924243001 0924243002 0923758001 0918522001 09...</td>\n",
       "      <td>0751471001 0579541001 0573085028 0673677002 06...</td>\n",
       "      <td>0448509014 0573085028 0751471001 0706016001 06...</td>\n",
       "      <td>0448509014 0751471001 0573085028 0924243001 06...</td>\n",
       "    </tr>\n",
       "    <tr>\n",
       "      <th>4</th>\n",
       "      <td>00006413d8573cd20ed7128e53b7b13819fe5cfc2d801f...</td>\n",
       "      <td>0730683050 0791587015 0896152002 0818320001 09...</td>\n",
       "      <td>0730683050 0791587015 0896152002 0818320001 09...</td>\n",
       "      <td>0924243001 0924243002 0918522001 0751471001 04...</td>\n",
       "      <td>0730683050 0791587015 0924243001 0896152002 08...</td>\n",
       "      <td>0730683050 0791587015 0896152002 0927530004 05...</td>\n",
       "      <td>0924243001 0924243002 0923758001 0918522001 09...</td>\n",
       "      <td>0730683050 0791587015 0896152002 0927530004 08...</td>\n",
       "      <td>0730683050 0791587015 0896152002 0818320001 09...</td>\n",
       "      <td>0730683050 0791587015 0924243001 0896152002 09...</td>\n",
       "    </tr>\n",
       "  </tbody>\n",
       "</table>\n",
       "</div>"
      ],
      "text/plain": [
       "                                         customer_id  \\\n",
       "0  00000dbacae5abe5e23885899a1fa44253a17956c6d1c3...   \n",
       "1  0000423b00ade91418cceaf3b26c6af3dd342b51fd051e...   \n",
       "2  000058a12d5b43e67d225668fa1f8d618c13dc232df0ca...   \n",
       "3  00005ca1c9ed5f5146b52ac8639a40ca9d57aeff4d1bd2...   \n",
       "4  00006413d8573cd20ed7128e53b7b13819fe5cfc2d801f...   \n",
       "\n",
       "                                         prediction0  \\\n",
       "0  0568601043 0568601006 0568601006 0568597006 04...   \n",
       "1  0826211002 0800436010 0739590027 0706016001 06...   \n",
       "2  0794321007 0852643001 0852643003 0858883002 07...   \n",
       "3  0448509014 0573085028 0751471001 0706016001 06...   \n",
       "4  0730683050 0791587015 0896152002 0818320001 09...   \n",
       "\n",
       "                                         prediction1  \\\n",
       "0  0568601043 0568601006 0656719005 0745232001 07...   \n",
       "1  0826211002 0800436010 0739590027 0723529001 08...   \n",
       "2  0794321007 0852643001 0852643003 0858883002 07...   \n",
       "3  0448509014 0573085028 0751471001 0706016001 06...   \n",
       "4  0730683050 0791587015 0896152002 0818320001 09...   \n",
       "\n",
       "                                         prediction2  \\\n",
       "0  0568601043 0924243001 0924243002 0918522001 07...   \n",
       "1  0924243001 0924243002 0918522001 0751471001 04...   \n",
       "2  0794321007 0924243001 0924243002 0918522001 07...   \n",
       "3  0924243001 0924243002 0918522001 0751471001 04...   \n",
       "4  0924243001 0924243002 0918522001 0751471001 04...   \n",
       "\n",
       "                                         prediction3  \\\n",
       "0  0568601043 0568601006 0656719005 0745232001 09...   \n",
       "1  0826211002 0800436010 0924243001 0739590027 07...   \n",
       "2  0794321007 0852643001 0852643003 0858883002 09...   \n",
       "3  0448509014 0573085028 0924243001 0751471001 07...   \n",
       "4  0730683050 0791587015 0924243001 0896152002 08...   \n",
       "\n",
       "                                         prediction4  \\\n",
       "0  0568601043 0568601006 0745232001 0751471001 04...   \n",
       "1  0826211002 0739590027 0811835004 0764280001 07...   \n",
       "2  0794321007 0852643001 0852643003 0727808007 08...   \n",
       "3  0751471001 0678942001 0673677002 0579541001 05...   \n",
       "4  0730683050 0791587015 0896152002 0927530004 05...   \n",
       "\n",
       "                                         prediction5  \\\n",
       "0  0568601043 0751471001 0909370001 0915526001 09...   \n",
       "1  0924243001 0924243002 0923758001 0918522001 09...   \n",
       "2  0794321007 0924243001 0924243002 0923758001 09...   \n",
       "3  0924243001 0924243002 0923758001 0918522001 09...   \n",
       "4  0924243001 0924243002 0923758001 0918522001 09...   \n",
       "\n",
       "                                         prediction6  \\\n",
       "0  0568601043 0568601006 0745232001 0751471001 04...   \n",
       "1  0826211002 0739590027 0811835004 0764280001 07...   \n",
       "2  0794321007 0858883002 0852643003 0727808007 08...   \n",
       "3  0751471001 0579541001 0573085028 0673677002 06...   \n",
       "4  0730683050 0791587015 0896152002 0927530004 08...   \n",
       "\n",
       "                                         prediction7  \\\n",
       "0  0568601043 0568601006 0448509014 0573085028 07...   \n",
       "1  0826211002 0800436010 0739590027 0448509014 05...   \n",
       "2  0794321007 0852643001 0852643003 0858883002 07...   \n",
       "3  0448509014 0573085028 0751471001 0706016001 06...   \n",
       "4  0730683050 0791587015 0896152002 0818320001 09...   \n",
       "\n",
       "                                          prediction  \n",
       "0  0568601043 0568601006 0751471001 0448509014 07...  \n",
       "1  0826211002 0924243001 0739590027 0800436010 09...  \n",
       "2  0794321007 0852643001 0852643003 0858883002 09...  \n",
       "3  0448509014 0751471001 0573085028 0924243001 06...  \n",
       "4  0730683050 0791587015 0924243001 0896152002 09...  "
      ]
     },
     "execution_count": 4,
     "metadata": {},
     "output_type": "execute_result"
    }
   ],
   "source": [
    "def cust_blend(dt, W = [1,1,1,1,1,1,1,1]):\n",
    "    #Global ensemble weights\n",
    "    #W = [1.15,0.95,0.85]\n",
    "\n",
    "    #Create a list of all model predictions\n",
    "    REC = []\n",
    "\n",
    "    # Second Try\n",
    "    REC.append(dt['prediction0'].split())\n",
    "    REC.append(dt['prediction1'].split())\n",
    "    REC.append(dt['prediction2'].split())\n",
    "    REC.append(dt['prediction3'].split())\n",
    "    REC.append(dt['prediction4'].split())\n",
    "    REC.append(dt['prediction5'].split())\n",
    "    REC.append(dt['prediction6'].split())\n",
    "    REC.append(dt['prediction7'].split())\n",
    "#     REC.append(dt['prediction8'].split())\n",
    "    \n",
    "    #Create a dictionary of items recommended.\n",
    "    #Assign a weight according the order of appearance and multiply by global weights\n",
    "    res = {}\n",
    "    for M in range(len(REC)):\n",
    "        for n, v in enumerate(REC[M]):\n",
    "            if v in res:\n",
    "                res[v] += (W[M]/(n+1))\n",
    "            else:\n",
    "                res[v] = (W[M]/(n+1))\n",
    "\n",
    "    # Sort dictionary by item weights\n",
    "    res = list(dict(sorted(res.items(), key=lambda item: -item[1])).keys())\n",
    "\n",
    "    # Return the top 12 items only\n",
    "    return ' '.join(res[:12])\n",
    "\n",
    "#sub0['prediction'] = sub0.apply(cust_blend, W = [1.05,0.78,0.86,0.85,0.68,0.64,0.7,0.24,1.01], axis=1)\n",
    "# sub0['prediction'] = sub0.apply(cust_blend, W = [1.05,0.78,0.86,0.87,0.68,0.64,0.80,0.24,1.05], axis=1)\n",
    "#sub0['prediction'] = sub0.apply(cust_blend, W = [1.05,0.78,0.86,0.87,0.68,0.64,0.80,0.24], axis=1)\n",
    "\n",
    "sub0['prediction'] = sub0.apply(cust_blend, W = [1.05, 0.78, 0.87, 0.88, 0.68, 0.64, 0.70, 0.23], axis=1)\n",
    "\n",
    "\n",
    "sub0.head()"
   ]
  },
  {
   "cell_type": "markdown",
   "id": "eebc570d",
   "metadata": {
    "papermill": {
     "duration": 0.016233,
     "end_time": "2022-05-04T02:06:50.928408",
     "exception": false,
     "start_time": "2022-05-04T02:06:50.912175",
     "status": "completed"
    },
    "tags": []
   },
   "source": [
    "# Make a submission"
   ]
  },
  {
   "cell_type": "code",
   "execution_count": 5,
   "id": "a3fe8780",
   "metadata": {
    "execution": {
     "iopub.execute_input": "2022-05-04T02:06:50.965735Z",
     "iopub.status.busy": "2022-05-04T02:06:50.965030Z",
     "iopub.status.idle": "2022-05-04T02:06:51.208887Z",
     "shell.execute_reply": "2022-05-04T02:06:51.209546Z",
     "shell.execute_reply.started": "2022-05-04T02:00:51.630151Z"
    },
    "papermill": {
     "duration": 0.264574,
     "end_time": "2022-05-04T02:06:51.209768",
     "exception": false,
     "start_time": "2022-05-04T02:06:50.945194",
     "status": "completed"
    },
    "tags": []
   },
   "outputs": [
    {
     "data": {
      "text/plain": [
       "21"
      ]
     },
     "execution_count": 5,
     "metadata": {},
     "output_type": "execute_result"
    }
   ],
   "source": [
    "del sub0['prediction0']\n",
    "del sub0['prediction1']\n",
    "del sub0['prediction2']\n",
    "del sub0['prediction3']\n",
    "del sub0['prediction4']\n",
    "del sub0['prediction5']\n",
    "del sub0['prediction6']\n",
    "del sub0['prediction7']\n",
    "# del sub0['prediction8']\n",
    "gc.collect()\n",
    "\n",
    "\n",
    "#sub0.to_csv('submission.csv', index=False)"
   ]
  },
  {
   "cell_type": "code",
   "execution_count": 6,
   "id": "7833efec",
   "metadata": {
    "execution": {
     "iopub.execute_input": "2022-05-04T02:06:51.248979Z",
     "iopub.status.busy": "2022-05-04T02:06:51.248159Z",
     "iopub.status.idle": "2022-05-04T02:06:59.209044Z",
     "shell.execute_reply": "2022-05-04T02:06:59.208293Z",
     "shell.execute_reply.started": "2022-05-04T02:00:51.765500Z"
    },
    "papermill": {
     "duration": 7.981999,
     "end_time": "2022-05-04T02:06:59.209204",
     "exception": false,
     "start_time": "2022-05-04T02:06:51.227205",
     "status": "completed"
    },
    "tags": []
   },
   "outputs": [
    {
     "data": {
      "text/plain": [
       "21"
      ]
     },
     "execution_count": 6,
     "metadata": {},
     "output_type": "execute_result"
    }
   ],
   "source": [
    "sub1 = pd.read_csv('../input/h-m-framework-for-partitioned-validation/submission.csv').sort_values('customer_id').reset_index(drop=True)\n",
    "# sub1 = pd.read_csv('../input/h-m-faster-trending-products-weekly/submission.csv').sort_values('customer_id').reset_index(drop=True)                           # 0.0231\n",
    "#sub1 = pd.read_csv('../input/handmbestperforming/rule-based-by-customer-age.csv').sort_values('customer_id').reset_index(drop=True)\n",
    "sub1['prediction'] = sub1['prediction'].astype(str)\n",
    "\n",
    "sub0.columns = ['customer_id', 'prediction0']\n",
    "sub0['prediction1'] = sub1['prediction']\n",
    "\n",
    "del sub1\n",
    "gc.collect()"
   ]
  },
  {
   "cell_type": "code",
   "execution_count": 7,
   "id": "a9daacfb",
   "metadata": {
    "execution": {
     "iopub.execute_input": "2022-05-04T02:06:59.253648Z",
     "iopub.status.busy": "2022-05-04T02:06:59.252916Z",
     "iopub.status.idle": "2022-05-04T02:06:59.256086Z",
     "shell.execute_reply": "2022-05-04T02:06:59.256757Z",
     "shell.execute_reply.started": "2022-05-04T02:00:56.858868Z"
    },
    "papermill": {
     "duration": 0.029908,
     "end_time": "2022-05-04T02:06:59.256934",
     "exception": false,
     "start_time": "2022-05-04T02:06:59.227026",
     "status": "completed"
    },
    "tags": []
   },
   "outputs": [],
   "source": [
    "def cust_blend(dt, W = [1,1,1,1,1]):\n",
    "    #Global ensemble weights\n",
    "    #W = [1.15,0.95,0.85]\n",
    "\n",
    "    #Create a list of all model predictions\n",
    "    REC = []\n",
    "\n",
    "    # Second Try\n",
    "    REC.append(dt['prediction0'].split())\n",
    "    REC.append(dt['prediction1'].split())\n",
    "\n",
    "    #Create a dictionary of items recommended.\n",
    "    #Assign a weight according the order of appearance and multiply by global weights\n",
    "    res = {}\n",
    "    for M in range(len(REC)):\n",
    "        for n, v in enumerate(REC[M]):\n",
    "            if v in res:\n",
    "                res[v] += (W[M]/(n+1))\n",
    "            else:\n",
    "                res[v] = (W[M]/(n+1))\n",
    "\n",
    "    # Sort dictionary by item weights\n",
    "    res = list(dict(sorted(res.items(), key=lambda item: -item[1])).keys())\n",
    "\n",
    "    # Return the top 12 items only\n",
    "    return ' '.join(res[:12])"
   ]
  },
  {
   "cell_type": "code",
   "execution_count": 8,
   "id": "61a3bb96",
   "metadata": {
    "execution": {
     "iopub.execute_input": "2022-05-04T02:06:59.297808Z",
     "iopub.status.busy": "2022-05-04T02:06:59.295960Z",
     "iopub.status.idle": "2022-05-04T02:07:53.677773Z",
     "shell.execute_reply": "2022-05-04T02:07:53.676959Z",
     "shell.execute_reply.started": "2022-05-04T02:00:56.868375Z"
    },
    "papermill": {
     "duration": 54.402836,
     "end_time": "2022-05-04T02:07:53.677961",
     "exception": false,
     "start_time": "2022-05-04T02:06:59.275125",
     "status": "completed"
    },
    "tags": []
   },
   "outputs": [],
   "source": [
    "sub0['prediction'] = sub0.apply(cust_blend, W = [1.20, 0.90], axis=1)\n",
    "del sub0['prediction0']\n",
    "del sub0['prediction1']\n",
    "sub0.to_csv('submission.csv', index=False)"
   ]
  },
  {
   "cell_type": "code",
   "execution_count": 9,
   "id": "bd372ace",
   "metadata": {
    "execution": {
     "iopub.execute_input": "2022-05-04T02:07:53.721538Z",
     "iopub.status.busy": "2022-05-04T02:07:53.720760Z",
     "iopub.status.idle": "2022-05-04T02:08:05.805496Z",
     "shell.execute_reply": "2022-05-04T02:08:05.805955Z",
     "shell.execute_reply.started": "2022-05-04T02:01:41.052485Z"
    },
    "papermill": {
     "duration": 12.108988,
     "end_time": "2022-05-04T02:08:05.806096",
     "exception": false,
     "start_time": "2022-05-04T02:07:53.697108",
     "status": "completed"
    },
    "tags": []
   },
   "outputs": [
    {
     "name": "stdout",
     "output_type": "stream",
     "text": [
      "0.0\n"
     ]
    }
   ],
   "source": [
    "from sklearn.metrics import accuracy_score\n",
    "subm = pd.read_csv('../input/h-and-m-personalized-fashion-recommendations/sample_submission.csv').sort_values('customer_id').reset_index(drop=True)\n",
    "# subm['prediction'] = subm['prediction'].astype(str)\n",
    "acc = accuracy_score(sub0['prediction'] , subm['prediction'])\n",
    "\n",
    "print(acc)"
   ]
  }
 ],
 "metadata": {
  "kernelspec": {
   "display_name": "Python 3",
   "language": "python",
   "name": "python3"
  },
  "language_info": {
   "codemirror_mode": {
    "name": "ipython",
    "version": 3
   },
   "file_extension": ".py",
   "mimetype": "text/x-python",
   "name": "python",
   "nbconvert_exporter": "python",
   "pygments_lexer": "ipython3",
   "version": "3.7.12"
  },
  "papermill": {
   "default_parameters": {},
   "duration": 269.996361,
   "end_time": "2022-05-04T02:08:07.335006",
   "environment_variables": {},
   "exception": null,
   "input_path": "__notebook__.ipynb",
   "output_path": "__notebook__.ipynb",
   "parameters": {},
   "start_time": "2022-05-04T02:03:37.338645",
   "version": "2.3.3"
  }
 },
 "nbformat": 4,
 "nbformat_minor": 5
}
